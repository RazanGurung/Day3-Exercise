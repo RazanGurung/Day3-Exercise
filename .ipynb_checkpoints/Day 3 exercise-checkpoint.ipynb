{
 "cells": [
  {
   "cell_type": "markdown",
   "id": "2fd7392f-63c1-448d-b328-ec7105536067",
   "metadata": {},
   "source": [
    "# Simple Voting Eligibility Check"
   ]
  },
  {
   "cell_type": "code",
   "execution_count": 7,
   "id": "23230863",
   "metadata": {},
   "outputs": [
    {
     "name": "stdin",
     "output_type": "stream",
     "text": [
      "Enter your AGE 20\n",
      "Are you the Citizen? yes or no no\n"
     ]
    },
    {
     "name": "stdout",
     "output_type": "stream",
     "text": [
      "Not Eligible for Voting\n"
     ]
    }
   ],
   "source": [
    "Voter_Age = int(input(\"Enter your AGE\"))\n",
    "Voter_Citizenship =input(\"Are you the Citizen? yes or no\").strip().lower()\n",
    "\n",
    "if Voter_Citizenship ==\"yes\" and Voter_Age>= 21 :\n",
    "    print(\"Eligible for Voting\")\n",
    "else:\n",
    "    print(\"Not Eligible for Voting\")"
   ]
  },
  {
   "cell_type": "markdown",
   "id": "73f1117f-3922-4742-8ab7-81090b33d13c",
   "metadata": {},
   "source": [
    "# Simple Calculator"
   ]
  },
  {
   "cell_type": "code",
   "execution_count": 17,
   "id": "185afb0e-c853-44d4-a595-02edd7532e8f",
   "metadata": {},
   "outputs": [
    {
     "name": "stdin",
     "output_type": "stream",
     "text": [
      "Input the First Number 3\n",
      "Input the Second Number 3\n",
      "+ or - or * or / 3\n"
     ]
    },
    {
     "name": "stdout",
     "output_type": "stream",
     "text": [
      "Please choose available Operator \n",
      " Try Again !!\n"
     ]
    }
   ],
   "source": [
    "Num1 = float(input(\"Input the First Number\"))\n",
    "Num2 = float(input(\"Input the Second Number\"))\n",
    "\n",
    "arithmeticOperation = input(\"+ or - or * or /\").strip()\n",
    "\n",
    "if arithmeticOperation == \"+\":\n",
    "    print(f\"Addition of {Num1} and {Num2} is {Num1 + Num2}.\")\n",
    "elif arithmeticOperation == \"-\":\n",
    "    print(f\"Subtraction of {Num1} and {Num2} is {Num1 - Num2}.\")\n",
    "elif arithmeticOperation == \"*\":\n",
    "    print(f\"Multipication of {Num1} and {Num2} is {Num1 * Num2}.\")\n",
    "elif arithmeticOperation == \"/\":\n",
    "    print(f\"Divide of {Num1} and {Num2} is {Num1 / Num2}.\")\n",
    "else:\n",
    "    print(\"Please choose available Operator \\n Try Again !!\")"
   ]
  },
  {
   "cell_type": "code",
   "execution_count": 2,
   "id": "31a0edda-6f9b-4816-9479-961ef28f462a",
   "metadata": {},
   "outputs": [
    {
     "name": "stdout",
     "output_type": "stream",
     "text": [
      "Requirement already satisfied: requests in c:\\users\\razan\\anaconda3\\lib\\site-packages (2.32.3)\n",
      "Requirement already satisfied: charset-normalizer<4,>=2 in c:\\users\\razan\\anaconda3\\lib\\site-packages (from requests) (2.0.4)\n",
      "Requirement already satisfied: idna<4,>=2.5 in c:\\users\\razan\\anaconda3\\lib\\site-packages (from requests) (3.4)\n",
      "Requirement already satisfied: urllib3<3,>=1.21.1 in c:\\users\\razan\\anaconda3\\lib\\site-packages (from requests) (1.26.16)\n",
      "Requirement already satisfied: certifi>=2017.4.17 in c:\\users\\razan\\anaconda3\\lib\\site-packages (from requests) (2025.4.26)\n",
      "Note: you may need to restart the kernel to use updated packages.\n"
     ]
    }
   ],
   "source": [
    "pip install requests"
   ]
  },
  {
   "cell_type": "code",
   "execution_count": 3,
   "id": "b57bc52b-84e4-449b-aeb8-532b68316d46",
   "metadata": {},
   "outputs": [],
   "source": [
    "import requests\n",
    "import pandas as pd\n",
    "\n",
    "url=\"https://www.youtube.com/\""
   ]
  },
  {
   "cell_type": "code",
   "execution_count": 5,
   "id": "2f72c267-cc86-4b3a-bd7e-21ea74745154",
   "metadata": {},
   "outputs": [],
   "source": [
    "response = requests.get(url)"
   ]
  },
  {
   "cell_type": "raw",
   "id": "89c9c14b-2ec1-4629-8eb9-37b846d273ee",
   "metadata": {},
   "source": [
    "response"
   ]
  },
  {
   "cell_type": "code",
   "execution_count": 8,
   "id": "42f80cc0-6307-488e-904e-5deaeea862fd",
   "metadata": {},
   "outputs": [
    {
     "data": {
      "text/html": [
       "<div>\n",
       "<style scoped>\n",
       "    .dataframe tbody tr th:only-of-type {\n",
       "        vertical-align: middle;\n",
       "    }\n",
       "\n",
       "    .dataframe tbody tr th {\n",
       "        vertical-align: top;\n",
       "    }\n",
       "\n",
       "    .dataframe thead th {\n",
       "        text-align: right;\n",
       "    }\n",
       "</style>\n",
       "<table border=\"1\" class=\"dataframe\">\n",
       "  <thead>\n",
       "    <tr style=\"text-align: right;\">\n",
       "      <th></th>\n",
       "      <th>0</th>\n",
       "    </tr>\n",
       "  </thead>\n",
       "  <tbody>\n",
       "    <tr>\n",
       "      <th>0</th>\n",
       "      <td>b'&lt;!DOCTYPE html&gt;&lt;html style=\"font-size: 10px;...</td>\n",
       "    </tr>\n",
       "    <tr>\n",
       "      <th>1</th>\n",
       "      <td>b'me-deprecate system-icons typography typogra...</td>\n",
       "    </tr>\n",
       "    <tr>\n",
       "      <th>2</th>\n",
       "      <td>b'obal_data = {\"MUE6Ne\":\"youtube_web\",\"MuJWjd\"...</td>\n",
       "    </tr>\n",
       "    <tr>\n",
       "      <th>3</th>\n",
       "      <td>b'09_p0\",\"fPDxwd\":[],\"iCzhFc\":false,\"nQyAE\":{}...</td>\n",
       "    </tr>\n",
       "    <tr>\n",
       "      <th>4</th>\n",
       "      <td>b',\"513659523\":false,\"568333945\":false,\"133176...</td>\n",
       "    </tr>\n",
       "  </tbody>\n",
       "</table>\n",
       "</div>"
      ],
      "text/plain": [
       "                                                   0\n",
       "0  b'<!DOCTYPE html><html style=\"font-size: 10px;...\n",
       "1  b'me-deprecate system-icons typography typogra...\n",
       "2  b'obal_data = {\"MUE6Ne\":\"youtube_web\",\"MuJWjd\"...\n",
       "3  b'09_p0\",\"fPDxwd\":[],\"iCzhFc\":false,\"nQyAE\":{}...\n",
       "4  b',\"513659523\":false,\"568333945\":false,\"133176..."
      ]
     },
     "execution_count": 8,
     "metadata": {},
     "output_type": "execute_result"
    }
   ],
   "source": [
    "df = pd.DataFrame(response)\n",
    "df.head()"
   ]
  },
  {
   "cell_type": "code",
   "execution_count": 9,
   "id": "a8010352-332f-4e95-9f9f-a003afb293ee",
   "metadata": {},
   "outputs": [],
   "source": [
    "html_doc = \"\"\"<!DOCTYPE html>\n",
    "<html lang=\"en\">\n",
    "<head>\n",
    "<meta charset=\"UTF-8\">\n",
    "<meta name=\"viewport\" content=\"width=device-width, initial-scale=1.0\">\n",
    "<title>Sample Books Data</title>\n",
    "<style>\n",
    "\n",
    "        body {\n",
    "\n",
    "            font-family: Arial, sans-serif;\n",
    "\n",
    "            margin: 20px;\n",
    "\n",
    "            background-color: #f8f8f8;\n",
    "\n",
    "        }\n",
    "\n",
    "        h1 {\n",
    "\n",
    "            text-align: center;\n",
    "\n",
    "            color: #333;\n",
    "\n",
    "        }\n",
    "\n",
    "        .book {\n",
    "\n",
    "            border: 1px solid #ccc;\n",
    "\n",
    "            padding: 15px;\n",
    "\n",
    "            margin: 10px;\n",
    "\n",
    "            border-radius: 5px;\n",
    "\n",
    "            background-color: #fff;\n",
    "\n",
    "        }\n",
    "\n",
    "        .title {\n",
    "\n",
    "            font-size: 1.5em;\n",
    "\n",
    "            color: #0056b3;\n",
    "\n",
    "        }\n",
    "\n",
    "        .author {\n",
    "\n",
    "            font-style: italic;\n",
    "\n",
    "            color: #555;\n",
    "\n",
    "        }\n",
    "\n",
    "        .price {\n",
    "\n",
    "            color: #d9534f;\n",
    "\n",
    "            font-weight: bold;\n",
    "\n",
    "        }\n",
    "\n",
    "        .description {\n",
    "\n",
    "            margin-top: 10px;\n",
    "\n",
    "        }\n",
    "\n",
    "        a {\n",
    "\n",
    "            color: #007bff;\n",
    "\n",
    "            text-decoration: none;\n",
    "\n",
    "        }\n",
    "\n",
    "        a:hover {\n",
    "\n",
    "            text-decoration: underline;\n",
    "\n",
    "        }\n",
    "</style>\n",
    "</head>\n",
    "<body>\n",
    "<h1>Books List</h1>\n",
    "<div class=\"book\">\n",
    "<p class=\"title\">\n",
    "<b>The Great Gatsby</b>\n",
    "</p>\n",
    "<p class=\"author\">Author: F. Scott Fitzgerald</p>\n",
    "<p class=\"price\">Price: $10.99</p>\n",
    "<p class=\"publication-year\">Publication Year: 1925</p>\n",
    "<p class=\"genre\">Genre: Fiction</p>\n",
    "<p class=\"description\">\n",
    "\n",
    "            A novel about the American dream, set in the 1920s on Long Island.\n",
    "</p>\n",
    "<p>More Info: <a class=\"info-link\" href=\"http://example.com/gatsby\" id=\"link1\">Learn More</a></p>\n",
    "</div>\n",
    "<div class=\"book\">\n",
    "<p class=\"title\">\n",
    "<b>1984</b>\n",
    "</p>\n",
    "<p class=\"author\">Author: George Orwell</p>\n",
    "<p class=\"price\">Price: $8.99</p>\n",
    "<p class=\"publication-year\">Publication Year: 1949</p>\n",
    "<p class=\"genre\">Genre: Dystopian</p>\n",
    "<p class=\"description\">\n",
    "\n",
    "            A story about a totalitarian regime that uses surveillance and propaganda to control its citizens.\n",
    "</p>\n",
    "<p>More Info: <a class=\"info-link\" href=\"http://example.com/1984\" id=\"link2\">Learn More</a></p>\n",
    "</div>\n",
    "<div class=\"book\">\n",
    "<p class=\"title\">\n",
    "<b>To Kill a Mockingbird</b>\n",
    "</p>\n",
    "<p class=\"author\">Author: Harper Lee</p>\n",
    "<p class=\"price\">Price: $7.99</p>\n",
    "<p class=\"publication-year\">Publication Year: 1960</p>\n",
    "<p class=\"genre\">Genre: Fiction</p>\n",
    "<p class=\"description\">\n",
    "\n",
    "            A novel set in the Great Depression that addresses serious issues of race and injustice.\n",
    "</p>\n",
    "<p>More Info: <a class=\"info-link\" href=\"http://example.com/mockingbird\" id=\"link3\">Learn More</a></p>\n",
    "</div>\n",
    "</body>\n",
    "</html>\n",
    "\n",
    "\"\"\"\n",
    " "
   ]
  },
  {
   "cell_type": "code",
   "execution_count": 11,
   "id": "8799200c-c24d-46c4-9474-3c93e8cae55b",
   "metadata": {},
   "outputs": [
    {
     "name": "stdout",
     "output_type": "stream",
     "text": [
      "Requirement already satisfied: BeautifulSoup4 in c:\\users\\razan\\anaconda3\\lib\\site-packages (4.12.2)\n",
      "Requirement already satisfied: soupsieve>1.2 in c:\\users\\razan\\anaconda3\\lib\\site-packages (from BeautifulSoup4) (2.4)\n",
      "Note: you may need to restart the kernel to use updated packages.\n"
     ]
    }
   ],
   "source": [
    "pip install BeautifulSoup4"
   ]
  },
  {
   "cell_type": "code",
   "execution_count": 12,
   "id": "1bc4e6c3-eda4-4398-bd7d-5f8843100f87",
   "metadata": {},
   "outputs": [],
   "source": [
    "from bs4 import BeautifulSoup"
   ]
  },
  {
   "cell_type": "code",
   "execution_count": null,
   "id": "0f04356e-29eb-4949-808c-acfd3946703b",
   "metadata": {},
   "outputs": [],
   "source": []
  }
 ],
 "metadata": {
  "kernelspec": {
   "display_name": "Python [conda env:base] *",
   "language": "python",
   "name": "conda-base-py"
  },
  "language_info": {
   "codemirror_mode": {
    "name": "ipython",
    "version": 3
   },
   "file_extension": ".py",
   "mimetype": "text/x-python",
   "name": "python",
   "nbconvert_exporter": "python",
   "pygments_lexer": "ipython3",
   "version": "3.11.5"
  }
 },
 "nbformat": 4,
 "nbformat_minor": 5
}
