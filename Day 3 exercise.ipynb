{
 "cells": [
  {
   "cell_type": "markdown",
   "id": "2fd7392f-63c1-448d-b328-ec7105536067",
   "metadata": {},
   "source": [
    "# Simple Voting Eligibility Check"
   ]
  },
  {
   "cell_type": "code",
   "execution_count": 7,
   "id": "23230863",
   "metadata": {},
   "outputs": [
    {
     "name": "stdin",
     "output_type": "stream",
     "text": [
      "Enter your AGE 20\n",
      "Are you the Citizen? yes or no no\n"
     ]
    },
    {
     "name": "stdout",
     "output_type": "stream",
     "text": [
      "Not Eligible for Voting\n"
     ]
    }
   ],
   "source": [
    "Voter_Age = int(input(\"Enter your AGE\"))\n",
    "Voter_Citizenship =input(\"Are you the Citizen? yes or no\").strip().lower()\n",
    "\n",
    "if Voter_Citizenship ==\"yes\" and Voter_Age>= 21 :\n",
    "    print(\"Eligible for Voting\")\n",
    "else:\n",
    "    print(\"Not Eligible for Voting\")"
   ]
  },
  {
   "cell_type": "markdown",
   "id": "73f1117f-3922-4742-8ab7-81090b33d13c",
   "metadata": {},
   "source": [
    "# Simple Calculator"
   ]
  },
  {
   "cell_type": "code",
   "execution_count": 17,
   "id": "185afb0e-c853-44d4-a595-02edd7532e8f",
   "metadata": {},
   "outputs": [
    {
     "name": "stdin",
     "output_type": "stream",
     "text": [
      "Input the First Number 3\n",
      "Input the Second Number 3\n",
      "+ or - or * or / 3\n"
     ]
    },
    {
     "name": "stdout",
     "output_type": "stream",
     "text": [
      "Please choose available Operator \n",
      " Try Again !!\n"
     ]
    }
   ],
   "source": [
    "Num1 = float(input(\"Input the First Number\"))\n",
    "Num2 = float(input(\"Input the Second Number\"))\n",
    "\n",
    "arithmeticOperation = input(\"+ or - or * or /\").strip()\n",
    "\n",
    "if arithmeticOperation == \"+\":\n",
    "    print(f\"Addition of {Num1} and {Num2} is {Num1 + Num2}.\")\n",
    "elif arithmeticOperation == \"-\":\n",
    "    print(f\"Subtraction of {Num1} and {Num2} is {Num1 - Num2}.\")\n",
    "elif arithmeticOperation == \"*\":\n",
    "    print(f\"Multipication of {Num1} and {Num2} is {Num1 * Num2}.\")\n",
    "elif arithmeticOperation == \"/\":\n",
    "    print(f\"Divide of {Num1} and {Num2} is {Num1 / Num2}.\")\n",
    "else:\n",
    "    print(\"Please choose available Operator \\n Try Again !!\")"
   ]
  },
  {
   "cell_type": "code",
   "execution_count": null,
   "id": "31a0edda-6f9b-4816-9479-961ef28f462a",
   "metadata": {},
   "outputs": [],
   "source": [
    "\""
   ]
  }
 ],
 "metadata": {
  "kernelspec": {
   "display_name": "Python [conda env:base] *",
   "language": "python",
   "name": "conda-base-py"
  },
  "language_info": {
   "codemirror_mode": {
    "name": "ipython",
    "version": 3
   },
   "file_extension": ".py",
   "mimetype": "text/x-python",
   "name": "python",
   "nbconvert_exporter": "python",
   "pygments_lexer": "ipython3",
   "version": "3.11.5"
  }
 },
 "nbformat": 4,
 "nbformat_minor": 5
}
